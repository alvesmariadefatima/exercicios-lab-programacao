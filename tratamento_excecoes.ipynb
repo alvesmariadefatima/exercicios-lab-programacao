{
  "nbformat": 4,
  "nbformat_minor": 0,
  "metadata": {
    "colab": {
      "name": "tratamento_excecoes.ipynb",
      "provenance": [],
      "collapsed_sections": [],
      "mount_file_id": "1CUw95tejPFJSU8B21RgzLEyeLLmIsXxN",
      "authorship_tag": "ABX9TyMQ61hGNHiDcvt0mObGe2fF",
      "include_colab_link": true
    },
    "kernelspec": {
      "name": "python3",
      "display_name": "Python 3"
    },
    "language_info": {
      "name": "python"
    }
  },
  "cells": [
    {
      "cell_type": "markdown",
      "metadata": {
        "id": "view-in-github",
        "colab_type": "text"
      },
      "source": [
        "<a href=\"https://colab.research.google.com/github/alvesmariadefatima/projetos-lab-programacao/blob/main/tratamento_excecoes.ipynb\" target=\"_parent\"><img src=\"https://colab.research.google.com/assets/colab-badge.svg\" alt=\"Open In Colab\"/></a>"
      ]
    },
    {
      "cell_type": "code",
      "execution_count": 1,
      "metadata": {
        "id": "US2b6J_jD1Bm",
        "colab": {
          "base_uri": "https://localhost:8080/",
          "height": 136
        },
        "outputId": "02e25b22-2c4a-4190-e315-981db665109f"
      },
      "outputs": [
        {
          "output_type": "error",
          "ename": "SyntaxError",
          "evalue": "ignored",
          "traceback": [
            "\u001b[0;36m  File \u001b[0;32m\"<ipython-input-1-7a481d3f46d4>\"\u001b[0;36m, line \u001b[0;32m1\u001b[0m\n\u001b[0;31m    while True print('Hello World')\u001b[0m\n\u001b[0m                   ^\u001b[0m\n\u001b[0;31mSyntaxError\u001b[0m\u001b[0;31m:\u001b[0m invalid syntax\n"
          ]
        }
      ],
      "source": [
        "while True print('Hello World')"
      ]
    },
    {
      "cell_type": "code",
      "source": [
        "10 * (1/0)"
      ],
      "metadata": {
        "id": "n9_ct_2BEF5s",
        "colab": {
          "base_uri": "https://localhost:8080/",
          "height": 173
        },
        "outputId": "3053ab53-b1d6-4b25-b979-b18a9e0f8a2d"
      },
      "execution_count": 2,
      "outputs": [
        {
          "output_type": "error",
          "ename": "ZeroDivisionError",
          "evalue": "ignored",
          "traceback": [
            "\u001b[0;31m---------------------------------------------------------------------------\u001b[0m",
            "\u001b[0;31mZeroDivisionError\u001b[0m                         Traceback (most recent call last)",
            "\u001b[0;32m<ipython-input-2-0b280f36835c>\u001b[0m in \u001b[0;36m<module>\u001b[0;34m()\u001b[0m\n\u001b[0;32m----> 1\u001b[0;31m \u001b[0;36m10\u001b[0m \u001b[0;34m*\u001b[0m \u001b[0;34m(\u001b[0m\u001b[0;36m1\u001b[0m\u001b[0;34m/\u001b[0m\u001b[0;36m0\u001b[0m\u001b[0;34m)\u001b[0m\u001b[0;34m\u001b[0m\u001b[0;34m\u001b[0m\u001b[0m\n\u001b[0m",
            "\u001b[0;31mZeroDivisionError\u001b[0m: division by zero"
          ]
        }
      ]
    },
    {
      "cell_type": "code",
      "source": [
        "4 + spam*3"
      ],
      "metadata": {
        "id": "-mjXY9TVELqT",
        "colab": {
          "base_uri": "https://localhost:8080/",
          "height": 173
        },
        "outputId": "f4ecbdcb-7420-41af-aaf0-8bf49f4092e9"
      },
      "execution_count": 3,
      "outputs": [
        {
          "output_type": "error",
          "ename": "NameError",
          "evalue": "ignored",
          "traceback": [
            "\u001b[0;31m---------------------------------------------------------------------------\u001b[0m",
            "\u001b[0;31mNameError\u001b[0m                                 Traceback (most recent call last)",
            "\u001b[0;32m<ipython-input-3-c98bb92cdcac>\u001b[0m in \u001b[0;36m<module>\u001b[0;34m()\u001b[0m\n\u001b[0;32m----> 1\u001b[0;31m \u001b[0;36m4\u001b[0m \u001b[0;34m+\u001b[0m \u001b[0mspam\u001b[0m\u001b[0;34m*\u001b[0m\u001b[0;36m3\u001b[0m\u001b[0;34m\u001b[0m\u001b[0;34m\u001b[0m\u001b[0m\n\u001b[0m",
            "\u001b[0;31mNameError\u001b[0m: name 'spam' is not defined"
          ]
        }
      ]
    },
    {
      "cell_type": "code",
      "source": [
        "'2'+ 2"
      ],
      "metadata": {
        "id": "RK_FffwPEcvc",
        "colab": {
          "base_uri": "https://localhost:8080/",
          "height": 173
        },
        "outputId": "e214aa6a-6b39-4628-a3ec-9d142017de48"
      },
      "execution_count": 4,
      "outputs": [
        {
          "output_type": "error",
          "ename": "TypeError",
          "evalue": "ignored",
          "traceback": [
            "\u001b[0;31m---------------------------------------------------------------------------\u001b[0m",
            "\u001b[0;31mTypeError\u001b[0m                                 Traceback (most recent call last)",
            "\u001b[0;32m<ipython-input-4-852148f476ae>\u001b[0m in \u001b[0;36m<module>\u001b[0;34m()\u001b[0m\n\u001b[0;32m----> 1\u001b[0;31m \u001b[0;34m'2'\u001b[0m\u001b[0;34m+\u001b[0m \u001b[0;36m2\u001b[0m\u001b[0;34m\u001b[0m\u001b[0;34m\u001b[0m\u001b[0m\n\u001b[0m",
            "\u001b[0;31mTypeError\u001b[0m: can only concatenate str (not \"int\") to str"
          ]
        }
      ]
    },
    {
      "cell_type": "code",
      "source": [
        "while True:\n",
        "    try:\n",
        "      x = int(input('Please enter a number: '))\n",
        "      break\n",
        "    except ValueError:\n",
        "        print('Ooops! That was no valid number. Try again...')"
      ],
      "metadata": {
        "id": "HGEqesDMGTjT"
      },
      "execution_count": null,
      "outputs": []
    },
    {
      "cell_type": "code",
      "source": [
        "class B(Exception):\n",
        "    pass\n",
        "\n",
        "class C(B):\n",
        "    pass\n",
        "\n",
        "class D(C):\n",
        "    pass\n",
        "\n",
        "for cls in [B, C, D]:\n",
        "      try:\n",
        "        raise cls()\n",
        "      except D:\n",
        "          print(\"D\")\n",
        "      except C: \n",
        "          print(\"C\")\n",
        "      except B:\n",
        "          print(\"B\")"
      ],
      "metadata": {
        "id": "dtYFoiTvGzSV"
      },
      "execution_count": null,
      "outputs": []
    },
    {
      "cell_type": "code",
      "source": [
        "import sys\n",
        "\n",
        "try:\n",
        "\n",
        "    f = open('telecom_users.csv')\n",
        "    s = f.readline()\n",
        "    i = int(s.strip())\n",
        "\n",
        "except OSError as err:\n",
        "    print(\"OS Error: {0}\".format(err))\n",
        "except ValueError:\n",
        "    print(\"Could not convert data to an integer.\")\n",
        "except BaseException as err:\n",
        "    print(f\"Unexpected {err=}, {type(err)=}\")\n",
        "raise"
      ],
      "metadata": {
        "id": "QYoIX1pXIR3Z"
      },
      "execution_count": null,
      "outputs": []
    },
    {
      "cell_type": "code",
      "source": [
        "for arg in sys.argv[1:]:\n",
        "  try:\n",
        "    f = open(arg, 'r')\n",
        "  except OSError:\n",
        "      print(\"cannot open\", arg)\n",
        "else:\n",
        "      print(arg, 'has', len(f.readlines()), 'lines')\n",
        "f.close()"
      ],
      "metadata": {
        "id": "DRcQXM2oJ-Y_"
      },
      "execution_count": null,
      "outputs": []
    },
    {
      "cell_type": "code",
      "source": [
        "try:\n",
        "    raise Exception('spam', 'eggs')\n",
        "except Exception as inst:\n",
        "    print(type(inst))\n",
        "    print(inst.args)\n",
        "    print(inst)\n",
        "\n",
        "    x, y = inst.args\n",
        "    print(\"x = \", x)\n",
        "    print(\"y = \", y)"
      ],
      "metadata": {
        "id": "GOMOQ-IZKvff"
      },
      "execution_count": null,
      "outputs": []
    },
    {
      "cell_type": "code",
      "source": [
        "  def this_fails():\n",
        "    x = 1/0\n",
        "  try:\n",
        "    this_fails()\n",
        "  except ZeroDivisionError as err:\n",
        "    print(\"Handling runtime error \", err)"
      ],
      "metadata": {
        "id": "WwyZ1pgDLehZ",
        "colab": {
          "base_uri": "https://localhost:8080/"
        },
        "outputId": "7805a07b-53ea-4076-cf5d-2ade7798308f"
      },
      "execution_count": 12,
      "outputs": [
        {
          "output_type": "stream",
          "name": "stdout",
          "text": [
            "Handling runtime error  division by zero\n"
          ]
        }
      ]
    },
    {
      "cell_type": "code",
      "source": [
        "raise NameError (\"HiThere\")"
      ],
      "metadata": {
        "id": "3EhTc1IvL5Nr",
        "colab": {
          "base_uri": "https://localhost:8080/",
          "height": 173
        },
        "outputId": "2ee441af-b0ee-4ae9-d95d-22ed9c78e7d2"
      },
      "execution_count": 13,
      "outputs": [
        {
          "output_type": "error",
          "ename": "NameError",
          "evalue": "ignored",
          "traceback": [
            "\u001b[0;31m---------------------------------------------------------------------------\u001b[0m",
            "\u001b[0;31mNameError\u001b[0m                                 Traceback (most recent call last)",
            "\u001b[0;32m<ipython-input-13-56f07e06a7a7>\u001b[0m in \u001b[0;36m<module>\u001b[0;34m()\u001b[0m\n\u001b[0;32m----> 1\u001b[0;31m \u001b[0;32mraise\u001b[0m \u001b[0mNameError\u001b[0m \u001b[0;34m(\u001b[0m\u001b[0;34m\"HiThere\"\u001b[0m\u001b[0;34m)\u001b[0m\u001b[0;34m\u001b[0m\u001b[0;34m\u001b[0m\u001b[0m\n\u001b[0m",
            "\u001b[0;31mNameError\u001b[0m: HiThere"
          ]
        }
      ]
    },
    {
      "cell_type": "code",
      "source": [
        "try:\n",
        "    raise NameError(\"HiThere\")\n",
        "except NameError:\n",
        "    print(\"An exception flew by!\")\n",
        "raise"
      ],
      "metadata": {
        "id": "NhGx_mKLMGMh",
        "colab": {
          "base_uri": "https://localhost:8080/",
          "height": 229
        },
        "outputId": "b4808093-3873-468c-cd17-75f6d0e13383"
      },
      "execution_count": 14,
      "outputs": [
        {
          "output_type": "stream",
          "name": "stdout",
          "text": [
            "An exception flew by!\n"
          ]
        },
        {
          "output_type": "error",
          "ename": "RuntimeError",
          "evalue": "ignored",
          "traceback": [
            "\u001b[0;31m---------------------------------------------------------------------------\u001b[0m",
            "\u001b[0;31mRuntimeError\u001b[0m                              Traceback (most recent call last)",
            "\u001b[0;32m<ipython-input-14-04cc580fda41>\u001b[0m in \u001b[0;36m<module>\u001b[0;34m()\u001b[0m\n\u001b[1;32m      3\u001b[0m \u001b[0;32mexcept\u001b[0m \u001b[0mNameError\u001b[0m\u001b[0;34m:\u001b[0m\u001b[0;34m\u001b[0m\u001b[0;34m\u001b[0m\u001b[0m\n\u001b[1;32m      4\u001b[0m     \u001b[0mprint\u001b[0m\u001b[0;34m(\u001b[0m\u001b[0;34m\"An exception flew by!\"\u001b[0m\u001b[0;34m)\u001b[0m\u001b[0;34m\u001b[0m\u001b[0;34m\u001b[0m\u001b[0m\n\u001b[0;32m----> 5\u001b[0;31m \u001b[0;32mraise\u001b[0m\u001b[0;34m\u001b[0m\u001b[0;34m\u001b[0m\u001b[0m\n\u001b[0m",
            "\u001b[0;31mRuntimeError\u001b[0m: No active exception to reraise"
          ]
        }
      ]
    },
    {
      "cell_type": "code",
      "source": [
        "def func():\n",
        "    raise ConnectionError\n",
        "try:\n",
        "    func()\n",
        "except ConnectionError as exc:\n",
        "  raise RuntimeError(\"Failed to open database\") from exc"
      ],
      "metadata": {
        "id": "zO2SUY4UMv_U",
        "colab": {
          "base_uri": "https://localhost:8080/",
          "height": 419
        },
        "outputId": "eae5f2a5-5006-4d3c-e75a-b1ec74af8be2"
      },
      "execution_count": 15,
      "outputs": [
        {
          "output_type": "error",
          "ename": "RuntimeError",
          "evalue": "ignored",
          "traceback": [
            "\u001b[0;31m---------------------------------------------------------------------------\u001b[0m",
            "\u001b[0;31mConnectionError\u001b[0m                           Traceback (most recent call last)",
            "\u001b[0;32m<ipython-input-15-1032540f0cff>\u001b[0m in \u001b[0;36m<module>\u001b[0;34m()\u001b[0m\n\u001b[1;32m      3\u001b[0m \u001b[0;32mtry\u001b[0m\u001b[0;34m:\u001b[0m\u001b[0;34m\u001b[0m\u001b[0;34m\u001b[0m\u001b[0m\n\u001b[0;32m----> 4\u001b[0;31m     \u001b[0mfunc\u001b[0m\u001b[0;34m(\u001b[0m\u001b[0;34m)\u001b[0m\u001b[0;34m\u001b[0m\u001b[0;34m\u001b[0m\u001b[0m\n\u001b[0m\u001b[1;32m      5\u001b[0m \u001b[0;32mexcept\u001b[0m \u001b[0mConnectionError\u001b[0m \u001b[0;32mas\u001b[0m \u001b[0mexc\u001b[0m\u001b[0;34m:\u001b[0m\u001b[0;34m\u001b[0m\u001b[0;34m\u001b[0m\u001b[0m\n",
            "\u001b[0;32m<ipython-input-15-1032540f0cff>\u001b[0m in \u001b[0;36mfunc\u001b[0;34m()\u001b[0m\n\u001b[1;32m      1\u001b[0m \u001b[0;32mdef\u001b[0m \u001b[0mfunc\u001b[0m\u001b[0;34m(\u001b[0m\u001b[0;34m)\u001b[0m\u001b[0;34m:\u001b[0m\u001b[0;34m\u001b[0m\u001b[0;34m\u001b[0m\u001b[0m\n\u001b[0;32m----> 2\u001b[0;31m     \u001b[0;32mraise\u001b[0m \u001b[0mConnectionError\u001b[0m\u001b[0;34m\u001b[0m\u001b[0;34m\u001b[0m\u001b[0m\n\u001b[0m\u001b[1;32m      3\u001b[0m \u001b[0;32mtry\u001b[0m\u001b[0;34m:\u001b[0m\u001b[0;34m\u001b[0m\u001b[0;34m\u001b[0m\u001b[0m\n",
            "\u001b[0;31mConnectionError\u001b[0m: ",
            "\nThe above exception was the direct cause of the following exception:\n",
            "\u001b[0;31mRuntimeError\u001b[0m                              Traceback (most recent call last)",
            "\u001b[0;32m<ipython-input-15-1032540f0cff>\u001b[0m in \u001b[0;36m<module>\u001b[0;34m()\u001b[0m\n\u001b[1;32m      4\u001b[0m     \u001b[0mfunc\u001b[0m\u001b[0;34m(\u001b[0m\u001b[0;34m)\u001b[0m\u001b[0;34m\u001b[0m\u001b[0;34m\u001b[0m\u001b[0m\n\u001b[1;32m      5\u001b[0m \u001b[0;32mexcept\u001b[0m \u001b[0mConnectionError\u001b[0m \u001b[0;32mas\u001b[0m \u001b[0mexc\u001b[0m\u001b[0;34m:\u001b[0m\u001b[0;34m\u001b[0m\u001b[0;34m\u001b[0m\u001b[0m\n\u001b[0;32m----> 6\u001b[0;31m   \u001b[0;32mraise\u001b[0m \u001b[0mRuntimeError\u001b[0m\u001b[0;34m(\u001b[0m\u001b[0;34m\"Failed to open database\"\u001b[0m\u001b[0;34m)\u001b[0m \u001b[0;32mfrom\u001b[0m \u001b[0mexc\u001b[0m\u001b[0;34m\u001b[0m\u001b[0;34m\u001b[0m\u001b[0m\n\u001b[0m",
            "\u001b[0;31mRuntimeError\u001b[0m: Failed to open database"
          ]
        }
      ]
    },
    {
      "cell_type": "code",
      "source": [
        "try:\n",
        "    open('database.sqlite')\n",
        "except OSError:\n",
        "  raise RuntimeError from None"
      ],
      "metadata": {
        "id": "wEXahsh_NZYG",
        "colab": {
          "base_uri": "https://localhost:8080/",
          "height": 210
        },
        "outputId": "4a831458-a095-46a8-cd2b-bdbb47d310d1"
      },
      "execution_count": 16,
      "outputs": [
        {
          "output_type": "error",
          "ename": "RuntimeError",
          "evalue": "ignored",
          "traceback": [
            "\u001b[0;31m---------------------------------------------------------------------------\u001b[0m",
            "\u001b[0;31mRuntimeError\u001b[0m                              Traceback (most recent call last)",
            "\u001b[0;32m<ipython-input-16-4a4d28adf712>\u001b[0m in \u001b[0;36m<module>\u001b[0;34m()\u001b[0m\n\u001b[1;32m      2\u001b[0m     \u001b[0mopen\u001b[0m\u001b[0;34m(\u001b[0m\u001b[0;34m'database.sqlite'\u001b[0m\u001b[0;34m)\u001b[0m\u001b[0;34m\u001b[0m\u001b[0;34m\u001b[0m\u001b[0m\n\u001b[1;32m      3\u001b[0m \u001b[0;32mexcept\u001b[0m \u001b[0mOSError\u001b[0m\u001b[0;34m:\u001b[0m\u001b[0;34m\u001b[0m\u001b[0;34m\u001b[0m\u001b[0m\n\u001b[0;32m----> 4\u001b[0;31m   \u001b[0;32mraise\u001b[0m \u001b[0mRuntimeError\u001b[0m \u001b[0;32mfrom\u001b[0m \u001b[0;32mNone\u001b[0m\u001b[0;34m\u001b[0m\u001b[0;34m\u001b[0m\u001b[0m\n\u001b[0m",
            "\u001b[0;31mRuntimeError\u001b[0m: "
          ]
        }
      ]
    },
    {
      "cell_type": "code",
      "source": [
        "try:\n",
        "  raise KeyboardInterrupt\n",
        "finally:\n",
        "    print(\"Goodbye, world!!!\")"
      ],
      "metadata": {
        "id": "e1L6Br9jOHpP",
        "colab": {
          "base_uri": "https://localhost:8080/",
          "height": 247
        },
        "outputId": "304e1c76-5ec3-46b0-8034-31f2999f4655"
      },
      "execution_count": 17,
      "outputs": [
        {
          "output_type": "stream",
          "name": "stdout",
          "text": [
            "Goodbye, world!!!\n"
          ]
        },
        {
          "output_type": "error",
          "ename": "KeyboardInterrupt",
          "evalue": "ignored",
          "traceback": [
            "\u001b[0;31m---------------------------------------------------------------------------\u001b[0m",
            "\u001b[0;31mKeyboardInterrupt\u001b[0m                         Traceback (most recent call last)",
            "\u001b[0;32m<ipython-input-17-8c5a21d68c13>\u001b[0m in \u001b[0;36m<module>\u001b[0;34m()\u001b[0m\n\u001b[1;32m      1\u001b[0m \u001b[0;32mtry\u001b[0m\u001b[0;34m:\u001b[0m\u001b[0;34m\u001b[0m\u001b[0;34m\u001b[0m\u001b[0m\n\u001b[0;32m----> 2\u001b[0;31m   \u001b[0;32mraise\u001b[0m \u001b[0mKeyboardInterrupt\u001b[0m\u001b[0;34m\u001b[0m\u001b[0;34m\u001b[0m\u001b[0m\n\u001b[0m\u001b[1;32m      3\u001b[0m \u001b[0;32mfinally\u001b[0m\u001b[0;34m:\u001b[0m\u001b[0;34m\u001b[0m\u001b[0;34m\u001b[0m\u001b[0m\n\u001b[1;32m      4\u001b[0m     \u001b[0mprint\u001b[0m\u001b[0;34m(\u001b[0m\u001b[0;34m\"Goodbye, world!!!\"\u001b[0m\u001b[0;34m)\u001b[0m\u001b[0;34m\u001b[0m\u001b[0;34m\u001b[0m\u001b[0m\n",
            "\u001b[0;31mKeyboardInterrupt\u001b[0m: "
          ]
        }
      ]
    },
    {
      "cell_type": "code",
      "source": [
        "def bool_return():\n",
        "    try:\n",
        "        return True\n",
        "    finally:\n",
        "        return False\n",
        "bool_return()"
      ],
      "metadata": {
        "id": "NTzP4f3FOZe-",
        "colab": {
          "base_uri": "https://localhost:8080/"
        },
        "outputId": "17c4d83e-48da-4f2d-eab2-4b5e27f653bb"
      },
      "execution_count": 18,
      "outputs": [
        {
          "output_type": "execute_result",
          "data": {
            "text/plain": [
              "False"
            ]
          },
          "metadata": {},
          "execution_count": 18
        }
      ]
    },
    {
      "cell_type": "code",
      "source": [
        "def divide (x, y):\n",
        "  try:\n",
        "      result = x / y\n",
        "  except ZeroDivisionError:\n",
        "      print(\"division by zero!\")\n",
        "  else:\n",
        "      print(\"result is\", result)\n",
        "  finally:\n",
        "      print(\"executing finally clause\")\n",
        "\n",
        "divide(2,1)\n",
        "\n",
        "divide(2,0)\n",
        "\n",
        "divide(\"2\", \"1\")"
      ],
      "metadata": {
        "id": "qKdE1KW0PF6Z"
      },
      "execution_count": null,
      "outputs": []
    },
    {
      "cell_type": "code",
      "source": [
        "for line in open (\"myfile.txt\"):\n",
        "\n",
        "    print(line, end=\"\")\n",
        "\n",
        "with open(\"myfile.txt\") as f:\n",
        "\n",
        "   for line in f:\n",
        "\n",
        "      print(line, end=\"\")"
      ],
      "metadata": {
        "id": "Xx9dbuc1QBL6"
      },
      "execution_count": null,
      "outputs": []
    },
    {
      "cell_type": "code",
      "source": [
        "x = 18\n",
        "\n",
        "y = 'abc'\n",
        "\n",
        "try:\n",
        "    print(x/y)\n",
        "except:\n",
        "    print(\"Erro na execução do comando. Verifique os tipos das variáveis ou zero no denominador.\")"
      ],
      "metadata": {
        "id": "O9rjbkbIRUzV"
      },
      "execution_count": null,
      "outputs": []
    },
    {
      "cell_type": "code",
      "source": [
        "x = 18\n",
        "\n",
        "y = 'abc'\n",
        "\n",
        "try:\n",
        "  print(x/y)\n",
        "  print(z)\n",
        "except NameError:\n",
        "  print(\"Variável z não foi definida.\")\n",
        "except TypeError:\n",
        "  print(\"Erro de execução do comando. Verifique os tipos de variáveis ou zero no denominador.\")"
      ],
      "metadata": {
        "id": "4JvybXOtS90Z"
      },
      "execution_count": null,
      "outputs": []
    },
    {
      "cell_type": "code",
      "source": [
        "x = 18\n",
        "\n",
        "y = 'abc'\n",
        "\n",
        "print(x/y) #Operação aritmética irá gerar um erro (Exceção)"
      ],
      "metadata": {
        "id": "y1msrFqikPjz"
      },
      "execution_count": null,
      "outputs": []
    },
    {
      "cell_type": "code",
      "source": [
        "try:\n",
        "  print(x/y)\n",
        "\n",
        "except:\n",
        "  print(\"Erro na execução do comando. Verifique os tipos das variáveis ou zero no denominador.\")"
      ],
      "metadata": {
        "id": "NgxoojcHmkS0"
      },
      "execution_count": null,
      "outputs": []
    },
    {
      "cell_type": "code",
      "source": [
        "x = 18\n",
        "\n",
        "y = 'abc'\n",
        "\n",
        "try:\n",
        "  print(x/y)\n",
        "  print(z)\n",
        "except NameError:\n",
        "  print(\"Variável z não foi definida.\")\n",
        "except TypeError:\n",
        "  print(\"Erro de execução do comando. Verifique os tipos de variáveis ou zero no denominador.\")"
      ],
      "metadata": {
        "id": "fXyYRgNnnGbq"
      },
      "execution_count": null,
      "outputs": []
    },
    {
      "cell_type": "code",
      "source": [
        "try:\n",
        "  altura = float(input('Digite sua altura: '))\n",
        "except:\n",
        "  print('Você digitou um valor inválido.')\n",
        "else:\n",
        "  if altura >= 1.90:\n",
        "    print(\"Você foi aprovado para o time sem prova seletiva.\")\n",
        "\n",
        "  else:\n",
        "    print(\"Você precisa fazer uma prova seletiva.\")"
      ],
      "metadata": {
        "id": "ttdCfkfOofsY"
      },
      "execution_count": null,
      "outputs": []
    },
    {
      "cell_type": "code",
      "source": [
        "x = 10\n",
        "\n",
        "try:\n",
        "  print(x)\n",
        "except:\n",
        "  print(\"A variável x não foi definida.\")\n",
        "finally:\n",
        "  print(\"Eu exibo a mensagem em qualquer condição.\")"
      ],
      "metadata": {
        "id": "f-XzdOW8pRst"
      },
      "execution_count": null,
      "outputs": []
    },
    {
      "cell_type": "code",
      "source": [
        "try:\n",
        "  num1 = int(input(\"Digite o primeiro número: \"))\n",
        "except ValueError:\n",
        "  print(\"Erro na digitação do primeiro número.\")\n",
        "else:\n",
        "  try:\n",
        "    num2 = int(input(\"Digite o segundo número: \"))\n",
        "  except ValueError: \n",
        "    print(\"Erro na digitação do segundo número.\")\n",
        "  else:\n",
        "    try:\n",
        "      res = num1/num2\n",
        "    except ZeroDivisionError:\n",
        "      print(\"Erro Divisão por zero!!!\")\n",
        "    else:\n",
        "      print(\"Divisão = \", res)\n",
        "    finally:\n",
        "      print(\"FIM!!!\")"
      ],
      "metadata": {
        "id": "NneUDyvfqfO2"
      },
      "execution_count": null,
      "outputs": []
    }
  ]
}
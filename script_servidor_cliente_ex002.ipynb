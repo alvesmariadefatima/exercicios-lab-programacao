{
  "nbformat": 4,
  "nbformat_minor": 0,
  "metadata": {
    "colab": {
      "name": "script-servidor-cliente-ex002.ipynb",
      "provenance": [],
      "collapsed_sections": [],
      "authorship_tag": "ABX9TyOfSSL6/A+WnJfiMAkT2OG5",
      "include_colab_link": true
    },
    "kernelspec": {
      "name": "python3",
      "display_name": "Python 3"
    },
    "language_info": {
      "name": "python"
    }
  },
  "cells": [
    {
      "cell_type": "markdown",
      "metadata": {
        "id": "view-in-github",
        "colab_type": "text"
      },
      "source": [
        "<a href=\"https://colab.research.google.com/github/alvesmariadefatima/projetos-lab-programacao/blob/main/script_servidor_cliente_ex002.ipynb\" target=\"_parent\"><img src=\"https://colab.research.google.com/assets/colab-badge.svg\" alt=\"Open In Colab\"/></a>"
      ]
    },
    {
      "cell_type": "code",
      "execution_count": null,
      "metadata": {
        "id": "y55KNrkmuPH6"
      },
      "outputs": [],
      "source": [
        "from socket import *\n",
        "\n",
        "host=gethostname()\n",
        "port=55551\n",
        "\n",
        "print(f'HOST: {host}, PORT: {port}')\n",
        "\n",
        "serv = socket(AF_INET, SOCK_STREAM)\n",
        "serv.bind((host, port))\n",
        "serv.listen()\n",
        "\n",
        "while 1:\n",
        "    con, adr=serv.accept()\n",
        "\n",
        "    msg=con.recv(1024)\n",
        "    print(msg.decode())"
      ]
    },
    {
      "cell_type": "code",
      "source": [
        "from socket import *\n",
        "\n",
        "host=gethostname()\n",
        "port=55551\n",
        "cli=socket(AF_INET, SOCK_STREAM)\n",
        "cli.connect((host,port))\n",
        "\n",
        "while 1:\n",
        "    print('-'*12)\n",
        "    print('QUESTIONÁRIO DO ESTUDANTE UNIVERSITÁRIO')\n",
        "    print('-'*12)\n",
        "    nome=input('Digite o nome completo do(a) aluno(a): ')\n",
        "    turno=input('Digite o turno que você estuda: M-Matutino / V-Verspetino / N - Noturno')\n",
        "    faculdade=input('Digite o nome do curso/faculdade: ')\n",
        "    instituicao=input('Digite o nome da universidade/instituição: ')\n",
        "    print('-'*12)\n",
        "    print(f'Nome completo do(a) aluno(a): {nome}')\n",
        "    print(f'Turno que o(a) aluno(a) estuda: {turno}')\n",
        "    print(f'Curso/faculdade: {faculdade}')\n",
        "    print(f'Instituição de ensino superior onde o(a) aluno(a) está matriculado(a): {instituicao}')\n",
        "    print('-'*12)\n",
        "\n",
        "    cli.send(msg.encode())\n",
        "    break"
      ],
      "metadata": {
        "id": "0JRfLy2i5y1N"
      },
      "execution_count": null,
      "outputs": []
    }
  ]
}
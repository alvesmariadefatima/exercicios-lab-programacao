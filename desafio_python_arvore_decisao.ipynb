{
  "nbformat": 4,
  "nbformat_minor": 0,
  "metadata": {
    "colab": {
      "name": "desafio-python-arvore-decisao.ipynb",
      "provenance": [],
      "mount_file_id": "1aH5GqgfNzUOje6tuYQJqN7JgXWuWY4g0",
      "authorship_tag": "ABX9TyNXWC1PVBZhPty28BHPZXGb",
      "include_colab_link": true
    },
    "kernelspec": {
      "name": "python3",
      "display_name": "Python 3"
    },
    "language_info": {
      "name": "python"
    }
  },
  "cells": [
    {
      "cell_type": "markdown",
      "metadata": {
        "id": "view-in-github",
        "colab_type": "text"
      },
      "source": [
        "<a href=\"https://colab.research.google.com/github/alvesmariadefatima/projetos-lab-programacao/blob/main/desafio_python_arvore_decisao.ipynb\" target=\"_parent\"><img src=\"https://colab.research.google.com/assets/colab-badge.svg\" alt=\"Open In Colab\"/></a>"
      ]
    },
    {
      "cell_type": "code",
      "execution_count": null,
      "metadata": {
        "id": "tmga7A5eqLbn"
      },
      "outputs": [],
      "source": [
        "import pandas as pd\n",
        "from sklearn.tree import DecisionTreeClassifier, export_graphviz\n",
        "from sklearn.model_selection import train_test_split\n",
        "from sklearn import metrics\n",
        "import numpy as np\n",
        "from google.colab import drive\n",
        "\n",
        "drive.mount('/content/drive')\n",
        "\n",
        "tabela = pd.read_csv('/content/drive/MyDrive/diabetes.csv')\n",
        "\n",
        "print(tabela)"
      ]
    },
    {
      "cell_type": "code",
      "source": [
        "df_diabetes = tabela\n",
        "df_diabetes.head()\n",
        "df_diabetes.info()"
      ],
      "metadata": {
        "id": "i58TzL_xsHDC"
      },
      "execution_count": null,
      "outputs": []
    },
    {
      "cell_type": "code",
      "source": [
        "# Dividindo os dados em treino e teste\n",
        "\n",
        "X_train, X_test, y_train, y_test = train_test_split(df_diabetes.drop('Outcome',axis=1),df_diabetes['Outcome'],test_size=0.3)"
      ],
      "metadata": {
        "id": "6GT7sO6AsfqP"
      },
      "execution_count": 6,
      "outputs": []
    },
    {
      "cell_type": "code",
      "source": [
        "# Verificando as formas dos dados:\n",
        "\n",
        "X_train.shape, X_test\n",
        "((578,10),(900,8))"
      ],
      "metadata": {
        "id": "8TRvyfUds12v"
      },
      "execution_count": null,
      "outputs": []
    },
    {
      "cell_type": "code",
      "source": [
        "y_train.shape, y_test.shape\n",
        "\n",
        "((578),(900))"
      ],
      "metadata": {
        "id": "gDAvAHvzt4i8"
      },
      "execution_count": null,
      "outputs": []
    },
    {
      "cell_type": "code",
      "source": [
        "#Instanciando o objeto classificador\n",
        "\n",
        "clf = DecisionTreeClassifier()"
      ],
      "metadata": {
        "id": "LecRq_d5uIjj"
      },
      "execution_count": 10,
      "outputs": []
    },
    {
      "cell_type": "code",
      "source": [
        "# Treinando o modelo da árvore de decisão\n",
        "\n",
        "clf = clf.fit(X_train, y_train)"
      ],
      "metadata": {
        "id": "uM5vHJVpuVqI"
      },
      "execution_count": 11,
      "outputs": []
    },
    {
      "cell_type": "code",
      "source": [
        "# Verificando as features mais importantes para o modelo treinado\n",
        "\n",
        "clf.feature_importances_"
      ],
      "metadata": {
        "id": "kZcvdZR-uuVy"
      },
      "execution_count": null,
      "outputs": []
    },
    {
      "cell_type": "code",
      "source": [
        "for feature, importancia in zip(df_diabetes.columns,clf.feature_importances_):\n",
        "    print(\"{}:{}\".format(feature, importancia))"
      ],
      "metadata": {
        "id": "6aBu4V2Cu4sx"
      },
      "execution_count": null,
      "outputs": []
    },
    {
      "cell_type": "code",
      "source": [
        "resultado = clf.predict(X_test)\n",
        "resultado"
      ],
      "metadata": {
        "id": "bbiGpMXRvcVx"
      },
      "execution_count": null,
      "outputs": []
    },
    {
      "cell_type": "code",
      "source": [
        "from sklearn import metrics\n",
        "print(metrics.classification_report(y_test,resultado))"
      ],
      "metadata": {
        "id": "uV6wtFmVvoM3"
      },
      "execution_count": null,
      "outputs": []
    },
    {
      "cell_type": "code",
      "source": [
        "# Renderizando a árvore de forma gráfica\n",
        "\n",
        "!pip install ipywidgets\n",
        "!pip3 install graphviz\n",
        "!pip3 install pydot\n",
        "import pydot\n",
        "import graphviz\n",
        "\n",
        "dot_data = export_graphviz(\n",
        "    clf,\n",
        "    out_file=None,\n",
        "    feature_names=df_diabetes.drop('Outcome', axis=1).columns,\n",
        "    class_names=['0','1'],\n",
        "    filled=True,rounded=True,\n",
        "    proportion=True,\n",
        "    node_ids=True,\n",
        "    rotate=False,\n",
        "    label='all',\n",
        "    special_characters=True\n",
        ")\n",
        "\n",
        "graph=graphviz.Source(dot_data)\n",
        "graph"
      ],
      "metadata": {
        "id": "ZcuM0wgcv66C"
      },
      "execution_count": null,
      "outputs": []
    },
    {
      "cell_type": "code",
      "source": [
        "# Renderizando a árvore de forma interativa\n",
        "\n",
        "from ipywidgets import interactive\n",
        "from IPython.display import SVG,display\n",
        "from graphviz import Source\n",
        "\n",
        "# feature matrix\n",
        "\n",
        "X,y=df_diabetes.drop('Outcome',axis=1),df_diabetes['Outcome']\n",
        "\n",
        "# feature labels\n",
        "\n",
        "features_label=df_diabetes.drop('Outcome',axis=1).columns\n",
        "\n",
        "#class label\n",
        "\n",
        "class_label = ['0', '1']\n",
        "\n",
        "def plot_tree(crit,split,min_samples_split, min_samples_leaf=0.2):\n",
        "    estimator = DecisionTreeClassifier(\n",
        "        random_state=0\n",
        "        ,cripterion=cript\n",
        "        ,splitter=split\n",
        "        ,max_depth=depth\n",
        "        ,min_samples_split=min_samples_split\n",
        "        ,min_samples_leaf=min_samples_leaf\n",
        "    )\n",
        "\n",
        "    estimator.fit(X,y)\n",
        "    graph=Source(export_graphviz(estimator\n",
        "    , out_file=None\n",
        "    , feature_names=features_label\n",
        "    , class_names=class_label\n",
        "    , impurity=True\n",
        "    , filled = True))\n",
        "    display(SVG(graph.pipe(format='svg')))\n",
        "    return estimator\n",
        "\n",
        "    inter=interactive(plot_tree\n",
        "    , cript = ['gini', 'entropy']  \n",
        "    , split = ['best', 'random'] \n",
        "    , depth=[2,4,6,8,10,20,30,40]  \n",
        "    , min_samples_split=(1,5)  \n",
        "    , min_samples_leaf=(1,5))\n",
        "\n",
        "    display(inter)"
      ],
      "metadata": {
        "id": "9cM9uMqxxfP2"
      },
      "execution_count": 23,
      "outputs": []
    }
  ]
}
{
  "nbformat": 4,
  "nbformat_minor": 0,
  "metadata": {
    "colab": {
      "name": "exception-python-2.ipynb",
      "provenance": [],
      "collapsed_sections": [],
      "authorship_tag": "ABX9TyNfGPMoaSyDXwSaoD/cmN1W",
      "include_colab_link": true
    },
    "kernelspec": {
      "name": "python3",
      "display_name": "Python 3"
    },
    "language_info": {
      "name": "python"
    }
  },
  "cells": [
    {
      "cell_type": "markdown",
      "metadata": {
        "id": "view-in-github",
        "colab_type": "text"
      },
      "source": [
        "<a href=\"https://colab.research.google.com/github/alvesmariadefatima/projetos-lab-programacao/blob/main/lista-exercicios-exception_python_2.ipynb\" target=\"_parent\"><img src=\"https://colab.research.google.com/assets/colab-badge.svg\" alt=\"Open In Colab\"/></a>"
      ]
    },
    {
      "cell_type": "code",
      "execution_count": null,
      "metadata": {
        "id": "pUd3CyJdIpzV"
      },
      "outputs": [],
      "source": [
        "#Erro 01 - Erro de divisão por zero\n",
        "\n",
        "1/0"
      ]
    },
    {
      "cell_type": "code",
      "source": [
        "#Erro 02 - Variável não declarada inicialmente no programa\n",
        "\n",
        "mean * 3"
      ],
      "metadata": {
        "id": "sLNX1eHuIuY4"
      },
      "execution_count": null,
      "outputs": []
    },
    {
      "cell_type": "code",
      "source": [
        "#Erro 03 - Erro de conversão/concatenação de número para string\n",
        "\n",
        "'mean: ' + 1"
      ],
      "metadata": {
        "id": "eQYx2WuOIueo"
      },
      "execution_count": null,
      "outputs": []
    },
    {
      "cell_type": "code",
      "source": [
        "#Erro 04 - Criar um programa para o usuário digitar qualquer número (usando o comando While) e, se caso não digitar nada, aparecerá uma mensagem de erro.\n",
        "\n",
        "while True:\n",
        "  try:  \n",
        "        numero = float(input(\"Digite qualquer valor: \"))\n",
        "  except ValueError:\n",
        "        print(\"Número inválido. Por favor, tente novamente...\")"
      ],
      "metadata": {
        "id": "Ce4yWwdJIujR"
      },
      "execution_count": null,
      "outputs": []
    },
    {
      "cell_type": "code",
      "source": [
        "#Erro 05 - Criar um programa para o usuário digitar qualquer número (usando o comando While e o exception KeyBoardInterrupt) para interromper o código\n",
        "\n",
        "while True:\n",
        "  try:\n",
        "      numero = float(input(\"Por favor, digite um número: \"))\n",
        "      print(\"Você digitou \", numero)\n",
        "  except ValueError:\n",
        "      print(\"Número inválido. Por favor, tente novamente...\")\n",
        "  except KeyboardInterrupt:\n",
        "      break"
      ],
      "metadata": {
        "id": "-NsN1tq4K7qt"
      },
      "execution_count": null,
      "outputs": []
    },
    {
      "cell_type": "code",
      "source": [
        "#Erro 06 - Criar um bloco try/except contendo os tratamentos de exceção RuntimeError, TypeError e NameError\n",
        "\n",
        "try:\n",
        "  pass\n",
        "except (RuntimeError, TypeError, NameError):\n",
        "  pass"
      ],
      "metadata": {
        "id": "mZoS5PVbLwa2"
      },
      "execution_count": 7,
      "outputs": []
    },
    {
      "cell_type": "code",
      "source": [
        "#Erro 07 - Implementar a classe InputError como Exception no bloco de código\n",
        "\n",
        "class InputError(Exception):\n",
        "    def __init__(self, input_value, message):\n",
        "        self.input_value = input_value\n",
        "        self.message = message\n",
        "\n",
        "        while True:\n",
        "          try:\n",
        "              x = int(input(\"Digite um número (vírgula para decimais): \"))\n",
        "              if ',' not in x:\n",
        "                raise InputError(x, 'Valor digitado não usou vírgula para decimais.') \n",
        "              else:\n",
        "                  print(\"Valor digitado: {}\".format(float(x.replace(',', '.'))))\n",
        "          except ValueError:\n",
        "                  print(\"Valor inválido. Por favor, tente novamente...\")\n",
        "          except KeyBoardInterrupt:\n",
        "            break"
      ],
      "metadata": {
        "id": "CSTRcwgjMbBB"
      },
      "execution_count": 13,
      "outputs": []
    },
    {
      "cell_type": "code",
      "source": [
        "#Erro 08 - Criar um bloco de código usando o comando finally \n",
        "\n",
        "try:  \n",
        "    raise ValueError('Lançando um erro...')\n",
        "finally:\n",
        "    print(\"Adeus, mundo!!!\")"
      ],
      "metadata": {
        "id": "zyRPI8rINr_s"
      },
      "execution_count": null,
      "outputs": []
    }
  ]
}
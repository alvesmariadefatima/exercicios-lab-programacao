{
  "nbformat": 4,
  "nbformat_minor": 0,
  "metadata": {
    "colab": {
      "name": "def_media_function.ipynb",
      "provenance": [],
      "authorship_tag": "ABX9TyPg0uX5whxa6JdeQpX73Iqt",
      "include_colab_link": true
    },
    "kernelspec": {
      "name": "python3",
      "display_name": "Python 3"
    },
    "language_info": {
      "name": "python"
    }
  },
  "cells": [
    {
      "cell_type": "markdown",
      "metadata": {
        "id": "view-in-github",
        "colab_type": "text"
      },
      "source": [
        "<a href=\"https://colab.research.google.com/github/alvesmariadefatima/projetos-lab-programacao/blob/main/def_media_function.ipynb\" target=\"_parent\"><img src=\"https://colab.research.google.com/assets/colab-badge.svg\" alt=\"Open In Colab\"/></a>"
      ]
    },
    {
      "cell_type": "code",
      "execution_count": null,
      "metadata": {
        "id": "zmchQBiNLlPp"
      },
      "outputs": [],
      "source": [
        "def n_media(*notas, **knotas):\n",
        "  soma = sum(notas)\n",
        "  numeroElementos = float(len(notas))\n",
        "\n",
        "  if notas:\n",
        "    return sum(notas)/float(len(notas))\n",
        "  \n",
        "  elif knotas:\n",
        "    #for key, value in knotas.items():\n",
        "        #print(f'atributo: {key}, valor: {value}')\n",
        "    print(knotas.keys())\n",
        "    print(knotas.values())\n",
        "    print(knotas.items())    \n",
        "    return sum(knotas.values())/float(len(knotas))\n",
        "\n",
        "#lista como parametro em forma de tupla\n",
        "a=[10,6,4,8,3,9,6,2]\n",
        "#n_media(*a) \n",
        "\n",
        "#lista como parametro em forma de dicionario\n",
        "#Formato dicionario\n",
        "d= {\"nota1\":10, \"nota2\":6}\n",
        "d= {\"nota1\":10, \"nota2\":6, \"nota3\":4, \"nota4\":8, \"nota5\":3, \"nota6\":9, \"nota7\":6, \"nota8\":2}\n",
        "n_media(**d)\n",
        "\n",
        "#Formato lista\n",
        "n_media(nota1=10,nota2=20)"
      ]
    }
  ]
}
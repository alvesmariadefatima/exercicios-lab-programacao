{
  "nbformat": 4,
  "nbformat_minor": 0,
  "metadata": {
    "colab": {
      "name": "exemplos_praticos_em_python.ipynb",
      "provenance": [],
      "collapsed_sections": [],
      "authorship_tag": "ABX9TyOTsBU3Ou0usxZfR53rg3I4",
      "include_colab_link": true
    },
    "kernelspec": {
      "name": "python3",
      "display_name": "Python 3"
    },
    "language_info": {
      "name": "python"
    }
  },
  "cells": [
    {
      "cell_type": "markdown",
      "metadata": {
        "id": "view-in-github",
        "colab_type": "text"
      },
      "source": [
        "<a href=\"https://colab.research.google.com/github/mariadefatimanunesalves20/projetos-lab-programacao/blob/main/exemplos_praticos_em_python.ipynb\" target=\"_parent\"><img src=\"https://colab.research.google.com/assets/colab-badge.svg\" alt=\"Open In Colab\"/></a>"
      ]
    },
    {
      "cell_type": "code",
      "execution_count": null,
      "metadata": {
        "id": "HXJPUzW5WAvU"
      },
      "outputs": [],
      "source": [
        "palavra = str(input('Digite alguma palavra: '))\n",
        "numero = int(input('Digite algum valor: '))\n",
        "\n",
        "print('Palavra digitada: {}'.format(palavra))\n",
        "print('Valor digitado: {}'.format(numero))"
      ]
    },
    {
      "cell_type": "code",
      "source": [
        "#dir('String de teste')\n",
        "\n",
        "#help(1000)"
      ],
      "metadata": {
        "id": "H9twXzaLWkeA"
      },
      "execution_count": null,
      "outputs": []
    },
    {
      "cell_type": "code",
      "source": [
        "salario = float(input('Digite seu salário: R$ '))\n",
        "horas_trabalhadas = int(input('Digite o valor de horas trabalhadas: '))\n",
        "\n",
        "total = salario*horas_trabalhadas\n",
        "aumento_salario = 2*(salario*horas_trabalhadas)\n",
        "\n",
        "if (horas_trabalhadas > 40):\n",
        "  print('Quantidades de horas trabalhadas: {}, você teve um aumento no seu salário o dobro do valor original no valor de R$ {:.2f}'.format(horas_trabalhadas, aumento_salario))\n",
        "else:\n",
        "  print('Você não tem direito ao aumento salarial, sua quantidade de horas trabalhadas foi inferior a 40 horas semanais. Portanto, seu salário será o mesmo.')"
      ],
      "metadata": {
        "id": "-a5etViIXFrD"
      },
      "execution_count": null,
      "outputs": []
    }
  ]
}
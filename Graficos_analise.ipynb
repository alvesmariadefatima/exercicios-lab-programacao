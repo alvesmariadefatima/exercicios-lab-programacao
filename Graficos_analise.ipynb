{
  "nbformat": 4,
  "nbformat_minor": 0,
  "metadata": {
    "colab": {
      "name": "Graficos-analise.ipynb",
      "provenance": [],
      "collapsed_sections": [],
      "authorship_tag": "ABX9TyMYpG7opCoy0rv0Mjwyp87w",
      "include_colab_link": true
    },
    "kernelspec": {
      "name": "python3",
      "display_name": "Python 3"
    },
    "language_info": {
      "name": "python"
    }
  },
  "cells": [
    {
      "cell_type": "markdown",
      "metadata": {
        "id": "view-in-github",
        "colab_type": "text"
      },
      "source": [
        "<a href=\"https://colab.research.google.com/github/alvesmariadefatima/projetos-lab-programacao/blob/main/Graficos_analise.ipynb\" target=\"_parent\"><img src=\"https://colab.research.google.com/assets/colab-badge.svg\" alt=\"Open In Colab\"/></a>"
      ]
    },
    {
      "cell_type": "code",
      "execution_count": null,
      "metadata": {
        "id": "IjuWFhRfbauc"
      },
      "outputs": [],
      "source": [
        "#Gráficos de velocidade média e propagação da luz no vácuo\n",
        "\n",
        "import matplotlib.pyplot as plt\n",
        "import numpy as np\n",
        "x = np.array([2,4,6,8,10])\n",
        "y = x*2\n",
        "\n",
        "plt.plot(x,y)\n",
        "plt.xlabel(\"Velocidade (m/s)\")\n",
        "plt.ylabel(\"Tempo (s)\")\n",
        "plt.title(\"Aceleração média\")\n",
        "plt.show()\n",
        "plt.figure()\n",
        "\n",
        "plt.title(\"Propagação da luz no vácuo\")\n",
        "plt.xlabel(\"Velocidade da luz\")\n",
        "plt.ylabel(\"Velocidade (em m/s)\")\n",
        "x1 = [1,3,5,7,9,11,13,15,17]\n",
        "y1 = [2,4,6,8,10,12,14,16,18]\n",
        "plt.plot(x1, y1, '-.')\n",
        "plt.show()"
      ]
    },
    {
      "cell_type": "code",
      "source": [
        "#Gráfico da velocidade média\n",
        "\n",
        "import matplotlib.pyplot as plt\n",
        "import numpy as np\n",
        "\n",
        "x = np.array([1,3,5,7])\n",
        "y = x*3\n",
        "plt.plot(x,y)\n",
        "\n",
        "x1 = [1,2,3,4]\n",
        "y1 = [2,4,6,8]\n",
        "plt.plot(x1, y1, '-.')\n",
        "\n",
        "plt.title(\"Velocidade média\")\n",
        "plt.xlabel(\"Espaço (distância em metros)\")\n",
        "plt.ylabel(\"Tempo percorrido (Segundos)\")\n",
        "plt.show()"
      ],
      "metadata": {
        "id": "ZvjFEun_zJ7c"
      },
      "execution_count": null,
      "outputs": []
    },
    {
      "cell_type": "code",
      "source": [
        "#Tempo de viagem percorrida de casa até a universidade\n",
        "\n",
        "import matplotlib.pyplot as plt\n",
        "import numpy as np\n",
        "\n",
        "x = np.array([2,5,8,12,18,23,45,90])\n",
        "y = x+1\n",
        "plt.plot(x, y)\n",
        "\n",
        "x1 = [12,24,36,42,75]\n",
        "y1 = [0,6,12,18, 80]\n",
        "\n",
        "plt.plot(x1, y1, '-.')\n",
        "plt.xlabel(\"Distância (em metros)\")\n",
        "plt.ylabel(\"Tempo de viagem (em segundos)\")\n",
        "plt.title(\"Tempo de viagem percorrida de casa até a universidade\")\n",
        "\n",
        "plt.fill_between(x, y, color='blue', alpha=0.5)\n",
        "plt.show()"
      ],
      "metadata": {
        "id": "YZh_-JBF3RvR"
      },
      "execution_count": null,
      "outputs": []
    }
  ]
}
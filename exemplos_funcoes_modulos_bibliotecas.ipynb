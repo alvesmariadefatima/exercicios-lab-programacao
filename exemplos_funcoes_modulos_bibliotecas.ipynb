{
  "nbformat": 4,
  "nbformat_minor": 0,
  "metadata": {
    "colab": {
      "name": "exemplos_funcoes_modulos_bibliotecas.ipynb",
      "provenance": [],
      "collapsed_sections": [],
      "authorship_tag": "ABX9TyOI133kmzAlcvGtNxJV1QKu",
      "include_colab_link": true
    },
    "kernelspec": {
      "name": "python3",
      "display_name": "Python 3"
    },
    "language_info": {
      "name": "python"
    }
  },
  "cells": [
    {
      "cell_type": "markdown",
      "metadata": {
        "id": "view-in-github",
        "colab_type": "text"
      },
      "source": [
        "<a href=\"https://colab.research.google.com/github/alvesmariadefatima/projetos-lab-programacao/blob/main/exemplos_funcoes_modulos_bibliotecas.ipynb\" target=\"_parent\"><img src=\"https://colab.research.google.com/assets/colab-badge.svg\" alt=\"Open In Colab\"/></a>"
      ]
    },
    {
      "cell_type": "code",
      "execution_count": null,
      "metadata": {
        "id": "sQB4AV28754T"
      },
      "outputs": [],
      "source": [
        "#Sintaxe básica para chamar uma função\n",
        "\n",
        "def myfun(x,y):\n",
        "  return x*y\n",
        "myfun(3,4)\n",
        "\n",
        "def myfun(y,x):\n",
        "  myfun(y= 3, x= 4)\n",
        "  return myfun"
      ]
    },
    {
      "cell_type": "code",
      "source": [
        "def myfun(x, y = 0.3, prompt = True):\n",
        "    res = x*y\n",
        "    if prompt:\n",
        "       print('Resposta é %f', res)\n",
        "    return res"
      ],
      "metadata": {
        "id": "9FXq0Es6A8Qg"
      },
      "execution_count": null,
      "outputs": []
    },
    {
      "cell_type": "code",
      "source": [
        "myfun(3)\n",
        "\n",
        "myfun(x=3, prompt = False)\n",
        "\n",
        "myfun(5,2, False)"
      ],
      "metadata": {
        "id": "-qv0JEQWBQqx"
      },
      "execution_count": null,
      "outputs": []
    },
    {
      "cell_type": "code",
      "source": [
        "def myfun(x, y = 4, prompt = True):\n",
        "  res = x*y\n",
        "  if prompt:\n",
        "    print('Resposta é %i', res)\n",
        "    return res"
      ],
      "metadata": {
        "id": "d7wZhKLdCKH1"
      },
      "execution_count": null,
      "outputs": []
    }
  ]
}
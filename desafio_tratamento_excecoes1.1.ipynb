{
  "nbformat": 4,
  "nbformat_minor": 0,
  "metadata": {
    "colab": {
      "name": "desafio-tratamento-excecoes.ipynb",
      "provenance": [],
      "collapsed_sections": [],
      "authorship_tag": "ABX9TyMkW1FkAQVCuXL2J+Ryd6L9",
      "include_colab_link": true
    },
    "kernelspec": {
      "name": "python3",
      "display_name": "Python 3"
    },
    "language_info": {
      "name": "python"
    }
  },
  "cells": [
    {
      "cell_type": "markdown",
      "metadata": {
        "id": "view-in-github",
        "colab_type": "text"
      },
      "source": [
        "<a href=\"https://colab.research.google.com/github/alvesmariadefatima/projetos-lab-programacao/blob/main/desafio_tratamento_excecoes1.1.ipynb\" target=\"_parent\"><img src=\"https://colab.research.google.com/assets/colab-badge.svg\" alt=\"Open In Colab\"/></a>"
      ]
    },
    {
      "cell_type": "code",
      "execution_count": null,
      "metadata": {
        "id": "Qmv6uWya5_a9"
      },
      "outputs": [],
      "source": [
        "#Desafio 01 - Criar um código usando o exception 'NameError'\n",
        "\n",
        "try:\n",
        "    raise NameError('Erro interno em nossa aplicação. Por favor, tente novamente.')\n",
        "except NameError:\n",
        "    print(\"Error not found 404\")\n",
        "raise"
      ]
    },
    {
      "cell_type": "code",
      "source": [
        "#Desafio 02 - Criar um código usando o exception 'TypeError'\n",
        "\n",
        "x = 29\n",
        "\n",
        "y = 'I love Python!!!'\n",
        "\n",
        "try:\n",
        "    print(x+y)\n",
        "except TypeError:\n",
        "    print('Erro interno em nossa aplicação. Por favor, tente novamente!!!')"
      ],
      "metadata": {
        "id": "PPj_wreGyJZC"
      },
      "execution_count": null,
      "outputs": []
    },
    {
      "cell_type": "code",
      "source": [
        "#Desafio 03 e 04 - Crie um código usando o exception 'ValueError'\n",
        "\n",
        "try:\n",
        "  v1 = int(input(\"Digite um número: \"))\n",
        "except ValueError:\n",
        "  print(\"Erro na digitação do primeiro número.\")\n",
        "else:\n",
        "  try:\n",
        "    v2 = int(input(\"Digite outro número: : \"))\n",
        "  except ValueError: \n",
        "    print(\"Erro na digitação do segundo número.\")\n",
        "  else:\n",
        "    try:\n",
        "      resultado_divisao = v1/v2\n",
        "    except ZeroDivisionError:\n",
        "      print(\"Erro de divisão por zero!!!\")\n",
        "    else:\n",
        "      print(\"Divisão = \", resultado_divisao)\n",
        "    finally:\n",
        "      print(\"Fim do programa!!!\")"
      ],
      "metadata": {
        "id": "09vSajyt0bVi"
      },
      "execution_count": null,
      "outputs": []
    },
    {
      "cell_type": "code",
      "source": [
        "#Desafio 05 - Criar um código usando o exception 'FileNotFoundError'\n",
        "\n",
        "for line in open('arquivo_aleatorio.txt'):\n",
        "\n",
        "    print(line, end='')\n",
        "\n",
        "with open ('arquivo_aleatorio.txt'):\n",
        "\n",
        "    for line in f:\n",
        "\n",
        "      print(line, end='')"
      ],
      "metadata": {
        "id": "Ju4WXxlx4vHr"
      },
      "execution_count": null,
      "outputs": []
    }
  ]
}
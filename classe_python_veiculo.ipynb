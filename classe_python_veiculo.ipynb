{
  "nbformat": 4,
  "nbformat_minor": 0,
  "metadata": {
    "colab": {
      "name": "classe_python_veiculo.ipynb",
      "provenance": [],
      "collapsed_sections": [],
      "authorship_tag": "ABX9TyMVAwwvfwWXw6whcY7WFzlA",
      "include_colab_link": true
    },
    "kernelspec": {
      "name": "python3",
      "display_name": "Python 3"
    },
    "language_info": {
      "name": "python"
    }
  },
  "cells": [
    {
      "cell_type": "markdown",
      "metadata": {
        "id": "view-in-github",
        "colab_type": "text"
      },
      "source": [
        "<a href=\"https://colab.research.google.com/github/alvesmariadefatima/projetos-lab-programacao/blob/main/classe_python_veiculo.ipynb\" target=\"_parent\"><img src=\"https://colab.research.google.com/assets/colab-badge.svg\" alt=\"Open In Colab\"/></a>"
      ]
    },
    {
      "cell_type": "code",
      "execution_count": 14,
      "metadata": {
        "colab": {
          "base_uri": "https://localhost:8080/"
        },
        "id": "8jOCpClVavtP",
        "outputId": "0c4cc737-eca2-48c0-bc70-8d494ecf1661"
      },
      "outputs": [
        {
          "output_type": "stream",
          "name": "stdout",
          "text": [
            "Estou dirigindo a  30 km/h\n"
          ]
        }
      ],
      "source": [
        "class Veiculo:\n",
        "\n",
        "  def dirigir(self, velocidade):\n",
        "    print(\"Estou dirigindo a \", velocidade, \"km/h\")\n",
        "\n",
        "veiculo = Veiculo()\n",
        "veiculo.dirigir(30)"
      ]
    }
  ]
}
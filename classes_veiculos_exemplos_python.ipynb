{
  "nbformat": 4,
  "nbformat_minor": 0,
  "metadata": {
    "colab": {
      "name": "classes_veiculos.ipynb",
      "provenance": [],
      "collapsed_sections": [],
      "authorship_tag": "ABX9TyMse3TdqmGn9rSsHc/Edu1h",
      "include_colab_link": true
    },
    "kernelspec": {
      "name": "python3",
      "display_name": "Python 3"
    },
    "language_info": {
      "name": "python"
    }
  },
  "cells": [
    {
      "cell_type": "markdown",
      "metadata": {
        "id": "view-in-github",
        "colab_type": "text"
      },
      "source": [
        "<a href=\"https://colab.research.google.com/github/alvesmariadefatima/projetos-lab-programacao/blob/main/classes_veiculos_exemplos_python.ipynb\" target=\"_parent\"><img src=\"https://colab.research.google.com/assets/colab-badge.svg\" alt=\"Open In Colab\"/></a>"
      ]
    },
    {
      "cell_type": "code",
      "execution_count": 9,
      "metadata": {
        "id": "XBYOSw4mU1KU",
        "colab": {
          "base_uri": "https://localhost:8080/"
        },
        "outputId": "16a4afae-8cd4-4e5a-934b-8615683970c5"
      },
      "outputs": [
        {
          "output_type": "stream",
          "name": "stdout",
          "text": [
            "Andei\n"
          ]
        }
      ],
      "source": [
        "class Veiculo:\n",
        "    def andar(self): print (\"Andei\")\n",
        "\n",
        "class Carro(Veiculo):\n",
        "    _nrodas = 4\n",
        "\n",
        "gol = Carro()\n",
        "gol.andar()"
      ]
    }
  ]
}
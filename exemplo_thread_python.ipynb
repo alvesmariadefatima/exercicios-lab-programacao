{
  "nbformat": 4,
  "nbformat_minor": 0,
  "metadata": {
    "colab": {
      "name": "exemplo_thread_python.ipynb",
      "provenance": [],
      "collapsed_sections": [],
      "authorship_tag": "ABX9TyPTMMf9TC5U0pJwVhhbB2PY",
      "include_colab_link": true
    },
    "kernelspec": {
      "name": "python3",
      "display_name": "Python 3"
    },
    "language_info": {
      "name": "python"
    }
  },
  "cells": [
    {
      "cell_type": "markdown",
      "metadata": {
        "id": "view-in-github",
        "colab_type": "text"
      },
      "source": [
        "<a href=\"https://colab.research.google.com/github/alvesmariadefatima/projetos-lab-programacao/blob/main/exemplo_thread_python.ipynb\" target=\"_parent\"><img src=\"https://colab.research.google.com/assets/colab-badge.svg\" alt=\"Open In Colab\"/></a>"
      ]
    },
    {
      "cell_type": "code",
      "execution_count": null,
      "metadata": {
        "id": "nJqwUPxGehkZ"
      },
      "outputs": [],
      "source": [
        "import threading\n",
        "\n",
        "var = 1\n",
        "\n",
        "class MinhaThread (threading.Thread):\n",
        "    def run (self):\n",
        "        global var\n",
        "        print(\"Thread % d\" % var)\n",
        "        var +=1\n",
        "\n",
        "    def minha_func(Thread):\n",
        "        global var\n",
        "        print(\"My message % d\" % var)\n",
        "        thr = Thread(target= minha_func, args = args, kwargs = kwargs)\n",
        "        thr.start()\n",
        "\n",
        "    for x in range(20):\n",
        "        MinhaThread().start()"
      ]
    },
    {
      "cell_type": "code",
      "source": [
        "def reduce(function, iterable, initializer=None):\n",
        "    it = iter(iterable)\n",
        "    if initializer is None:\n",
        "        value = next(it)\n",
        "    else:\n",
        "        value = initializer\n",
        "    for element in it:\n",
        "        value = function(value, element)\n",
        "    return value\n",
        "    \n",
        "def test_decorator(func):\n",
        "    def nova_soma(*args):\n",
        "        return reduce(func, args)\n",
        "    return nova_soma\n",
        "\n",
        "@test_decorator\n",
        "def soma(a, b): return a+b\n",
        "\n",
        "print(soma(10, 20, 40))"
      ],
      "metadata": {
        "id": "BbA0F1HPkCgj"
      },
      "execution_count": null,
      "outputs": []
    }
  ]
}
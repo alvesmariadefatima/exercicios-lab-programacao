{
  "nbformat": 4,
  "nbformat_minor": 0,
  "metadata": {
    "colab": {
      "name": "exemplo_thread_python.ipynb",
      "provenance": [],
      "collapsed_sections": [],
      "authorship_tag": "ABX9TyNV7iVVNkhFSmNcqFxpKbzK",
      "include_colab_link": true
    },
    "kernelspec": {
      "name": "python3",
      "display_name": "Python 3"
    },
    "language_info": {
      "name": "python"
    }
  },
  "cells": [
    {
      "cell_type": "markdown",
      "metadata": {
        "id": "view-in-github",
        "colab_type": "text"
      },
      "source": [
        "<a href=\"https://colab.research.google.com/github/alvesmariadefatima/projetos-lab-programacao/blob/main/exemplo_thread_python.ipynb\" target=\"_parent\"><img src=\"https://colab.research.google.com/assets/colab-badge.svg\" alt=\"Open In Colab\"/></a>"
      ]
    },
    {
      "cell_type": "code",
      "execution_count": 15,
      "metadata": {
        "colab": {
          "base_uri": "https://localhost:8080/"
        },
        "id": "nJqwUPxGehkZ",
        "outputId": "75be8f18-c2a9-4ca0-8985-59951cca043b"
      },
      "outputs": [
        {
          "output_type": "stream",
          "name": "stdout",
          "text": [
            "Thread1\n",
            "Thread2\n",
            "Thread3\n",
            "Thread4\n",
            "Thread5\n",
            "Thread6\n",
            "Thread7\n",
            "Thread8\n",
            "Thread9\n",
            "Thread10\n",
            "Thread10\n",
            "Thread11\n",
            "Thread12\n",
            "Thread14\n",
            "Thread15\n",
            "Thread16\n",
            "Thread17\n",
            "Thread18Thread18\n",
            "\n",
            "Thread20\n"
          ]
        }
      ],
      "source": [
        "import threading\n",
        "\n",
        "var = 1\n",
        "\n",
        "class MinhaThread ( threading.Thread ):\n",
        "    def run (self):\n",
        "        global var\n",
        "        print(\"Thread%d\"%var)\n",
        "        var +=1\n",
        "\n",
        "for x in range (20):\n",
        "    MinhaThread().start()"
      ]
    }
  ]
}
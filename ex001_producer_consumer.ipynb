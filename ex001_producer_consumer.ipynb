{
  "nbformat": 4,
  "nbformat_minor": 0,
  "metadata": {
    "colab": {
      "name": "ex001-producer-consumer.ipynb",
      "provenance": [],
      "collapsed_sections": [],
      "authorship_tag": "ABX9TyNu3TsU7+uKjzPeaTgfkfoT",
      "include_colab_link": true
    },
    "kernelspec": {
      "name": "python3",
      "display_name": "Python 3"
    },
    "language_info": {
      "name": "python"
    }
  },
  "cells": [
    {
      "cell_type": "markdown",
      "metadata": {
        "id": "view-in-github",
        "colab_type": "text"
      },
      "source": [
        "<a href=\"https://colab.research.google.com/github/alvesmariadefatima/projetos-lab-programacao/blob/main/ex001_producer_consumer.ipynb\" target=\"_parent\"><img src=\"https://colab.research.google.com/assets/colab-badge.svg\" alt=\"Open In Colab\"/></a>"
      ]
    },
    {
      "cell_type": "code",
      "execution_count": null,
      "metadata": {
        "id": "8beXh2xqobuc"
      },
      "outputs": [],
      "source": [
        "#imports\n",
        "import random\n",
        "import threading\n",
        "import multiprocessing\n",
        "import logging\n",
        "from threading import Thread\n",
        "from queue import Queue\n",
        "import time\n",
        "\n",
        "logging.basicConfig(format='%(levelname)s - %(asctime)s.%(msecs)03d: %(message)s', datefmt='%H%M%S', level=logging.DEBUG)\n",
        "\n",
        "#functions\n",
        "\n",
        "def display(msg):\n",
        "    threadname = threading.current_thread().name\n",
        "    processname = multiprocessing.current_process().name\n",
        "    logging.info(f'{processname}\\{threadname}: {msg}')\n",
        "\n",
        "#Producer\n",
        "\n",
        "def create_work (queue, finished, max):\n",
        "    finished.put(False)\n",
        "    for x in range(max):\n",
        "        v = random.randint(1,100)\n",
        "        queue.put(v)\n",
        "        display(f'Producing: {x}:{v}')\n",
        "        finished.put(True)\n",
        "        display('finished')\n",
        "\n",
        "#Consumer\n",
        "\n",
        "def perform_work(work, finished):\n",
        "    counter = 0\n",
        "    while True:\n",
        "        if not work.empty():\n",
        "            v=work.get()\n",
        "            display(f'Consuming: {counter},{v}')\n",
        "            counter += 1\n",
        "        else:\n",
        "                q = finished.get()\n",
        "                if q == True:\n",
        "                  break\n",
        "                  display('finished')\n",
        "\n",
        "#Main function\n",
        "\n",
        "def main():\n",
        "      max=50\n",
        "      work = Queue()\n",
        "      finished=Queue()\n",
        "\n",
        "      producer=Thread(target=create_work, args=[work, finished, max], daemon=True)\n",
        "      consumer=Thread(target=perform_work, args=[work, finished], daemon=True)\n",
        "\n",
        "      producer.start()\n",
        "      consumer.start()\n",
        "\n",
        "      producer.join()\n",
        "      display('Producer has finished')\n",
        "\n",
        "      consumer.join()\n",
        "      display('Consumer has finished')\n",
        "\n",
        "      display('Finished')\n",
        "\n",
        "if __name__ == '__main__':\n",
        "    main()"
      ]
    }
  ]
}
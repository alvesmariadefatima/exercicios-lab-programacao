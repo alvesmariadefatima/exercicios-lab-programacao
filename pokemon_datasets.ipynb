{
  "nbformat": 4,
  "nbformat_minor": 0,
  "metadata": {
    "colab": {
      "name": "pokemon-datasets.ipynb",
      "provenance": [],
      "collapsed_sections": [],
      "mount_file_id": "1DhMYMaG9Vxiuq80ekORQltKQhZL8QOY3",
      "authorship_tag": "ABX9TyNnEUWpWIMKJncqMacKMQEQ",
      "include_colab_link": true
    },
    "kernelspec": {
      "name": "python3",
      "display_name": "Python 3"
    },
    "language_info": {
      "name": "python"
    }
  },
  "cells": [
    {
      "cell_type": "markdown",
      "metadata": {
        "id": "view-in-github",
        "colab_type": "text"
      },
      "source": [
        "<a href=\"https://colab.research.google.com/github/alvesmariadefatima/projetos-lab-programacao/blob/main/pokemon_datasets.ipynb\" target=\"_parent\"><img src=\"https://colab.research.google.com/assets/colab-badge.svg\" alt=\"Open In Colab\"/></a>"
      ]
    },
    {
      "cell_type": "code",
      "execution_count": null,
      "metadata": {
        "id": "OOlQgAbfGFUB"
      },
      "outputs": [],
      "source": [
        "import pandas as pd\n",
        "from google.colab import drive\n",
        "\n",
        "drive.mount('/content/drive')\n",
        "\n",
        "# Passo 1: Importar a base de dados\n",
        "\n",
        "\n",
        "tabela = pd.read_csv('/content/drive/MyDrive/pokemon.csv')\n",
        "print(tabela)"
      ]
    },
    {
      "cell_type": "code",
      "source": [
        "import matplotlib.pyplot as plt\n",
        "\n",
        "plt.plot([0.6,2,3,7.8,4,6])"
      ],
      "metadata": {
        "id": "cEpfQnCnHaDP"
      },
      "execution_count": null,
      "outputs": []
    },
    {
      "cell_type": "code",
      "source": [
        "plt.plot([10,20,30,40], [15,40,75,90], linestyle='--', color='b', marker='s', \n",
        "         linewidth=3.0)\n",
        "plt.axis([0,50,0,100])\n",
        "plt.show()"
      ],
      "metadata": {
        "id": "N9JiAA2eLATb"
      },
      "execution_count": null,
      "outputs": []
    },
    {
      "cell_type": "code",
      "source": [
        "# Variáveis para o Bar Chart\n",
        "y_axis = [15,20,50]\n",
        "x_axis = range(len(y_axis))\n",
        "width_n = 0.4\n",
        "bar_color = 'pink'\n",
        "\n",
        "plt.bar(x_axis, y_axis, width=width_n, color=bar_color, align='center')\n",
        "plt.show()"
      ],
      "metadata": {
        "id": "hUzLo7uzMcca"
      },
      "execution_count": null,
      "outputs": []
    }
  ]
}
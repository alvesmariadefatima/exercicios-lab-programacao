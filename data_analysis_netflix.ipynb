{
  "nbformat": 4,
  "nbformat_minor": 0,
  "metadata": {
    "colab": {
      "name": "data-analysis-netflix.ipynb",
      "provenance": [],
      "collapsed_sections": [],
      "mount_file_id": "1dWwHhPPKnsiUhoKLcnKi75u-fT1P3hzQ",
      "authorship_tag": "ABX9TyMetpTZonLPHC0GpFwaJsY+",
      "include_colab_link": true
    },
    "kernelspec": {
      "name": "python3",
      "display_name": "Python 3"
    },
    "language_info": {
      "name": "python"
    }
  },
  "cells": [
    {
      "cell_type": "markdown",
      "metadata": {
        "id": "view-in-github",
        "colab_type": "text"
      },
      "source": [
        "<a href=\"https://colab.research.google.com/github/alvesmariadefatima/projetos-lab-programacao/blob/main/data_analysis_netflix.ipynb\" target=\"_parent\"><img src=\"https://colab.research.google.com/assets/colab-badge.svg\" alt=\"Open In Colab\"/></a>"
      ]
    },
    {
      "cell_type": "code",
      "execution_count": null,
      "metadata": {
        "id": "oIhykRjA24ui"
      },
      "outputs": [],
      "source": [
        "import pandas as pd;\n",
        "from google.colab import drive \n",
        "\n",
        "drive.mount('/content/drive')\n",
        "\n",
        "df = pd.read_csv('/content/drive/MyDrive/netflix_titles.csv')\n",
        "\n",
        "print(df)"
      ]
    },
    {
      "cell_type": "code",
      "source": [
        "df"
      ],
      "metadata": {
        "id": "xoBEFV0s2Lvo"
      },
      "execution_count": null,
      "outputs": []
    },
    {
      "cell_type": "code",
      "source": [
        "type(df)"
      ],
      "metadata": {
        "id": "PdpsY-pu30O3"
      },
      "execution_count": null,
      "outputs": []
    },
    {
      "cell_type": "code",
      "source": [
        "df.sample"
      ],
      "metadata": {
        "id": "_0-d-4bW3800"
      },
      "execution_count": null,
      "outputs": []
    },
    {
      "cell_type": "code",
      "source": [
        "df.shape"
      ],
      "metadata": {
        "id": "M_CUEFOA4G6O"
      },
      "execution_count": null,
      "outputs": []
    },
    {
      "cell_type": "code",
      "source": [
        "df.head(20)"
      ],
      "metadata": {
        "id": "F-Vm_YRd4L9Q"
      },
      "execution_count": null,
      "outputs": []
    },
    {
      "cell_type": "code",
      "source": [
        "df.describe()"
      ],
      "metadata": {
        "id": "OdKXPPi44W1r"
      },
      "execution_count": null,
      "outputs": []
    },
    {
      "cell_type": "code",
      "source": [
        "dfTratandoNulos = pd.read_csv('/content/drive/MyDrive/netflix_titles.csv')"
      ],
      "metadata": {
        "id": "nyZG0vjd4e7E"
      },
      "execution_count": 18,
      "outputs": []
    },
    {
      "cell_type": "code",
      "source": [
        "df"
      ],
      "metadata": {
        "id": "iYVASrRg4zTF"
      },
      "execution_count": null,
      "outputs": []
    },
    {
      "cell_type": "code",
      "source": [
        "dfTratandoNulos.head(300)"
      ],
      "metadata": {
        "id": "hitGUuGj47bM"
      },
      "execution_count": null,
      "outputs": []
    },
    {
      "cell_type": "code",
      "source": [
        "dfTratandoNulos.tail(n=8)"
      ],
      "metadata": {
        "id": "dB46TpAD5Kyd"
      },
      "execution_count": null,
      "outputs": []
    },
    {
      "cell_type": "code",
      "source": [
        "dfTratandoNulos.shape"
      ],
      "metadata": {
        "id": "t4KnKWPr5k-I"
      },
      "execution_count": null,
      "outputs": []
    },
    {
      "cell_type": "code",
      "source": [
        "dfTratandoNulos.info()"
      ],
      "metadata": {
        "id": "WXHNkIZD5t5p"
      },
      "execution_count": null,
      "outputs": []
    },
    {
      "cell_type": "code",
      "source": [
        "dfTratandoNulos.columns = ['show_id', 'type', 'title', 'director', 'cast', 'country', 'date_added', 'release_year', 'rating', 'duration', 'listen_in', 'description']\n",
        "\n",
        "dfTratandoNulos.head(n=900)"
      ],
      "metadata": {
        "id": "qU3Gytaf52-h"
      },
      "execution_count": null,
      "outputs": []
    },
    {
      "cell_type": "code",
      "source": [
        "dfTratandoNulos.isnull().sum()"
      ],
      "metadata": {
        "id": "Fds2YASJ7drH"
      },
      "execution_count": null,
      "outputs": []
    },
    {
      "cell_type": "code",
      "source": [
        "df = df.fillna(value=0)\n",
        "df.head(8000)"
      ],
      "metadata": {
        "id": "I6puZsoz7x3A"
      },
      "execution_count": null,
      "outputs": []
    },
    {
      "cell_type": "code",
      "source": [
        "dfTratandoNulos['release_year'].value_counts().plot(kind='bar')"
      ],
      "metadata": {
        "id": "OrA9cTKxjFE6"
      },
      "execution_count": null,
      "outputs": []
    },
    {
      "cell_type": "code",
      "source": [
        "dfTratandoNulos['duration'].value_counts().plot(kind='bar')"
      ],
      "metadata": {
        "id": "lvWaLQEv9QxH"
      },
      "execution_count": null,
      "outputs": []
    },
    {
      "cell_type": "markdown",
      "source": [
        ""
      ],
      "metadata": {
        "id": "2v-ZQaBMzoBp"
      }
    }
  ]
}
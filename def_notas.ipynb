{
  "nbformat": 4,
  "nbformat_minor": 0,
  "metadata": {
    "colab": {
      "name": "def_notas.ipynb",
      "provenance": [],
      "collapsed_sections": [],
      "authorship_tag": "ABX9TyPBl0VHpQD4KijHFDPRWiQ8",
      "include_colab_link": true
    },
    "kernelspec": {
      "name": "python3",
      "display_name": "Python 3"
    },
    "language_info": {
      "name": "python"
    }
  },
  "cells": [
    {
      "cell_type": "markdown",
      "metadata": {
        "id": "view-in-github",
        "colab_type": "text"
      },
      "source": [
        "<a href=\"https://colab.research.google.com/github/alvesmariadefatima/projetos-lab-programacao/blob/main/def_notas.ipynb\" target=\"_parent\"><img src=\"https://colab.research.google.com/assets/colab-badge.svg\" alt=\"Open In Colab\"/></a>"
      ]
    },
    {
      "cell_type": "code",
      "execution_count": null,
      "metadata": {
        "id": "uzBaNJs3DmX3"
      },
      "outputs": [],
      "source": [
        "def n_media(*notas):\n",
        "    '''Este método calcula a média das notas passadas como argumento\n",
        "    '''\n",
        "    return sum(notas)/float(len(notas))\n",
        "\n",
        "n_media (10, 6)\n",
        "\n",
        "n_media (10, 6, 4, 8)\n",
        "\n",
        "n_media(10, 6, 4, 8, 3, 9, 6, 2)"
      ]
    }
  ]
}
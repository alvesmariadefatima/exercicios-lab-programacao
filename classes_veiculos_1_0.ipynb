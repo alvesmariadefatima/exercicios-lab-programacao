{
  "nbformat": 4,
  "nbformat_minor": 0,
  "metadata": {
    "colab": {
      "name": "classes_veiculos_1.0.ipynb",
      "provenance": [],
      "collapsed_sections": [],
      "authorship_tag": "ABX9TyNnEGGuEKYKBpANDchmZi/5",
      "include_colab_link": true
    },
    "kernelspec": {
      "name": "python3",
      "display_name": "Python 3"
    },
    "language_info": {
      "name": "python"
    }
  },
  "cells": [
    {
      "cell_type": "markdown",
      "metadata": {
        "id": "view-in-github",
        "colab_type": "text"
      },
      "source": [
        "<a href=\"https://colab.research.google.com/github/alvesmariadefatima/projetos-lab-programacao/blob/main/classes_veiculos_1_0.ipynb\" target=\"_parent\"><img src=\"https://colab.research.google.com/assets/colab-badge.svg\" alt=\"Open In Colab\"/></a>"
      ]
    },
    {
      "cell_type": "code",
      "execution_count": 18,
      "metadata": {
        "id": "XBYOSw4mU1KU"
      },
      "outputs": [],
      "source": [
        "#Definir Classes em Python usando def, self\n",
        "\n",
        "class Veiculo:\n",
        "    _nrodas = 0\n",
        "    _nome = \"BMW\"\n",
        "    _fabricante = \"\"\n",
        "\n",
        "    def __init__(self, nome, fabricante): \n",
        "        self._nome = nome\n",
        "        self._fabricante = fabricante"
      ]
    },
    {
      "cell_type": "code",
      "source": [
        "class Veiculo:\n",
        "  def andar(self): print(\"andei\")\n",
        "\n",
        "class Carro(Veiculo):\n",
        "    _nrodas = 4\n",
        "    _placa = \"\"\n",
        "    _nome = \"\"\n",
        "\n",
        "    def __init__(self, nome, placa): \n",
        "        self._nome = nome\n",
        "        self._placa = placa\n",
        "\n",
        "    def andar(self): print(\"andei de carro\")\n",
        "\n",
        "class Caminhao (Carro): \n",
        "  def __init__(self, placa):\n",
        "    Carro.__init__(self, placa)\n",
        "\n",
        "gol = Carro(\"BMW\", \"XYZ9090\")\n",
        "gol.andar()\n",
        "\n",
        "class Carro:\n",
        "    def __init__(self, nr):\n",
        "      self._nrodas = nr\n",
        "\n",
        "      def __add__(self, car):\n",
        "          return self._nrodas + car.get_nr()\n",
        "\n",
        "          def __repr__(self):\n",
        "            return \"Eu sou um carro de %d rodas!\" % self._nrodas \n",
        "\n",
        "            def __cmp__(self, car):\n",
        "              return cmp (self._nrodas, car.get_nr())\n",
        "\n",
        "              def __get__nr(self):\n",
        "                return self._nrodas\n",
        "\n",
        "                a = Carro(4); b = Carro(6)\n",
        "\n",
        "                a+b\n",
        "\n",
        "                a>b\n",
        "\n",
        "                print(\"a\")"
      ],
      "metadata": {
        "id": "Hzm-5p83GpON"
      },
      "execution_count": null,
      "outputs": []
    }
  ]
}
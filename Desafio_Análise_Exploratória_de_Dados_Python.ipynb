{
  "nbformat": 4,
  "nbformat_minor": 0,
  "metadata": {
    "colab": {
      "name": "Desafio Análise Exploratória de Dados Python.ipynb",
      "provenance": [],
      "collapsed_sections": [],
      "authorship_tag": "ABX9TyMFkNbSty7nAFrSY9sPYTm4",
      "include_colab_link": true
    },
    "kernelspec": {
      "name": "python3",
      "display_name": "Python 3"
    },
    "language_info": {
      "name": "python"
    }
  },
  "cells": [
    {
      "cell_type": "markdown",
      "metadata": {
        "id": "view-in-github",
        "colab_type": "text"
      },
      "source": [
        "<a href=\"https://colab.research.google.com/github/alvesmariadefatima/projetos-lab-programacao/blob/main/Desafio_An%C3%A1lise_Explorat%C3%B3ria_de_Dados_Python.ipynb\" target=\"_parent\"><img src=\"https://colab.research.google.com/assets/colab-badge.svg\" alt=\"Open In Colab\"/></a>"
      ]
    },
    {
      "cell_type": "code",
      "source": [
        "import pandas as pd\n",
        "import seaborn as sns\n",
        "\n",
        "from sklearn.datasets import load_iris\n",
        "\n",
        "iris = load_iris()\n",
        "#selecionando as colunas de 0 a 4 para a variável x, o 5 foi declarado, \n",
        "#mas por padrão ele não é considerado.\n",
        "\n",
        "X = iris.data[:,0:5]\n",
        "#definindo o y na variável targer, essa será nossa variável dependente\n",
        "y = iris.target\n",
        "feature_names = ['sepal length (cm)', 'sepal width (cm)', 'petal length (cm)', 'petal widget (cm)']\n",
        "target_names = ['setosa', 'versicolor', 'virginica']\n",
        "X = pd.DataFrame(X, columns=feature_names)\n",
        "#utilizamos o head para exibir as primeiras linhas do dataframe (por padrão 5), \n",
        "#no nosso exemplo vamos exibir apenas as 2 primeiras.\n",
        "X.head(2)\n",
        "\n",
        "#retorna uma amostra (aleatória) de n elementos, no nosso exemplo 4 elementos\n",
        "X.sample(4)\n",
        "\n",
        "#retorna uma descrição \n",
        "X.describe()"
      ],
      "metadata": {
        "id": "lxyPoqQtZtDE"
      },
      "execution_count": null,
      "outputs": []
    },
    {
      "cell_type": "code",
      "execution_count": null,
      "metadata": {
        "id": "ky7Ly_U1TFRm"
      },
      "outputs": [],
      "source": [
        "import pandas as pd\n",
        "import seaborn as sns\n",
        "\n",
        "from sklearn.datasets import load_iris\n",
        "\n",
        "iris = load_iris()\n",
        "#selecionando as colunas de 0 a 4 para a variável x, o 5 foi declarado, \n",
        "#mas por padrão ele não é considerado.\n",
        "\n",
        "X = iris.data[:,0:5]\n",
        "#definindo o y na variável targer, essa será nossa variável dependente\n",
        "y = iris.target\n",
        "feature_names = ['sepal length (cm)', 'sepal width (cm)', 'petal length (cm)', 'petal widget (cm)']\n",
        "target_names = ['setosa', 'versicolor', 'virginica']\n",
        "X = pd.DataFrame(X, columns=feature_names)\n",
        "#utilizamos o head para exibir as primeiras linhas do dataframe (por padrão 5), \n",
        "#no nosso exemplo vamos exibir apenas as 2 primeiras.\n",
        "X.head(2)\n",
        "\n",
        "#retorna uma amostra (aleatória) de n elementos, no nosso exemplo 4 elementos\n",
        "X.sample(4)\n",
        "\n",
        "#retorna uma descrição \n",
        "X.describe()\n",
        "\n",
        "#calcular média\n",
        "media = X['sepal length (cm)'].mean()\n",
        "print(\"Média: \", media)\n",
        "\n",
        "#calcular mediana\n",
        "mediana = X['sepal length (cm)'].median()\n",
        "print(\"Mediana: \", mediana)\n",
        "\n",
        "#calcular moda\n",
        "moda = X['sepal length (cm)'].mode()\n",
        "print(\"Moda: \", moda[0])\n",
        "\n",
        "#calcular variância\n",
        "variancia = X['sepal length (cm)'].var()\n",
        "print(\"Variância: \", variancia)\n",
        "\n",
        "#calcular desvio padrão\n",
        "desvio = X['sepal length (cm)'].std()\n",
        "print(\"Desvio padrão: \", desvio)\n",
        "\n",
        "#calcular quartis\n",
        "Q1 = X['sepal length (cm)'].quantile(0.25)\n",
        "Q2 = X['sepal length (cm)'].quantile(0.5)\n",
        "Q3 = X['sepal length (cm)'].quantile(0.75)\n",
        "\n",
        "print(\"Primeiro quartil: \", Q1)\n",
        "print(\"Segundo quartil (Mediana): \", Q2)\n",
        "print(\"Terceiro quartil: \", Q3)\n",
        "\n",
        "#calcular intervalo interquartil\n",
        "\n",
        "IQR = Q3 - Q1\n",
        "print(\"Intervalo interquartil: \", IQR)\n",
        "\n",
        "#representação gráfica em boxplot\n",
        "#sns.boxplot(X['sepal length (cm)'])\n",
        "\n",
        "#sns.distplot(X['sepal length (cm)'])\n",
        "\n",
        "#assimetria\n",
        "\n",
        "assimetria = X['sepal length (cm)'].skew()\n",
        "print(\"Assimetria(skewness): \", assimetria)\n",
        "\n",
        "#curtose\n",
        "\n",
        "curtose = X['sepal length (cm)'].kurtosis()\n",
        "print('Curtose: ', curtose)"
      ]
    }
  ]
}